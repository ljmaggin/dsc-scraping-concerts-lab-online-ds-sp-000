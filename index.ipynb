{
 "cells": [
  {
   "cell_type": "markdown",
   "metadata": {},
   "source": [
    "# Scraping Concerts - Lab\n",
    "\n",
    "## Introduction\n",
    "\n",
    "Now that you've seen how to scrape a simple website, it's time to again practice those skills on a full-fledged site!\n",
    "In this lab, you'll practice your scraping skills on a music website: https://www.residentadvisor.net.\n",
    "## Objectives\n",
    "\n",
    "You will be able to:\n",
    "* Create a full scraping pipeline that involves traversing over many pages of a website, dealing with errors and storing data"
   ]
  },
  {
   "cell_type": "markdown",
   "metadata": {},
   "source": [
    "## View the Website\n",
    "\n",
    "For this lab, you'll be scraping the https://www.residentadvisor.net website. Start by navigating to the events page [here](https://www.residentadvisor.net/events) in your browser.\n",
    "\n",
    "<img src=\"images/ra.png\">"
   ]
  },
  {
   "cell_type": "code",
   "execution_count": null,
   "metadata": {},
   "outputs": [],
   "source": [
    "# Load the https://www.residentadvisor.net/events page in your browser."
   ]
  },
  {
   "cell_type": "markdown",
   "metadata": {},
   "source": [
    "## Open the Inspect Element Feature\n",
    "\n",
    "Next, open the inspect element feature from your web browser in order to preview the underlying HTML associated with the page."
   ]
  },
  {
   "cell_type": "code",
   "execution_count": null,
   "metadata": {},
   "outputs": [],
   "source": [
    "# Open the inspect element feature in your browser"
   ]
  },
  {
   "cell_type": "markdown",
   "metadata": {},
   "source": [
    "## Write a Function to Scrape all of the Events on the Given Page Events Page\n",
    "\n",
    "The function should return a Pandas DataFrame with columns for the Event_Name, Venue, Event_Date and Number_of_Attendees."
   ]
  },
  {
   "cell_type": "code",
   "execution_count": 1,
   "metadata": {},
   "outputs": [],
   "source": [
    "import re\n",
    "import numpy as np\n",
    "import pandas as pd\n",
    "import requests\n",
    "from bs4 import BeautifulSoup\n",
    "import time"
   ]
  },
  {
   "cell_type": "code",
   "execution_count": 3,
   "metadata": {},
   "outputs": [],
   "source": [
    "response = requests.get(\"https://www.residentadvisor.net/events/us/newyork\")\n",
    "soup = BeautifulSoup(response.content, 'html.parser')"
   ]
  },
  {
   "cell_type": "code",
   "execution_count": 5,
   "metadata": {},
   "outputs": [
    {
     "data": {
      "text/plain": [
       "<li><p class=\"eventDate date\"><a href=\"/events.aspx?ai=8&amp;v=day&amp;mn=7&amp;yr=2020&amp;dy=9\"><span>Thu, 09 Jul 2020 /</span></a></p></li>"
      ]
     },
     "execution_count": 5,
     "metadata": {},
     "output_type": "execute_result"
    }
   ],
   "source": [
    "event_listings = soup.find('div', id=\"event-listing\")\n",
    "entries = event_listings.findAll('li')\n",
    "entries[0]"
   ]
  },
  {
   "cell_type": "code",
   "execution_count": 6,
   "metadata": {},
   "outputs": [],
   "source": [
    "def scrape_events(events_page_url):\n",
    "    response = requests.get(events_page_url)\n",
    "    soup = BeautifulSoup(response.content, 'html.parser')\n",
    "    entries = event_listings.findAll('li')\n",
    "    rows = []\n",
    "    for entry in entries:\n",
    "        date = entry.find('p', class_=\"eventDate date\")\n",
    "        event = entry.find('h1', class_=\"event-title\")\n",
    "        if event:\n",
    "            details = event.text.split(' at ')\n",
    "            event_name = details[0].strip()\n",
    "            venue = details[1].strip()\n",
    "            try:\n",
    "                n_attendees = int(re.match(\"(\\d*)\", entry.find('p', class_=\"attending\").text)[0])\n",
    "            except:\n",
    "                n_attendees = np.nan\n",
    "            rows.append([event_name, venue, cur_date, n_attendees])\n",
    "        elif date:\n",
    "            cur_date = date.text\n",
    "        else:\n",
    "            continue\n",
    "    df = pd.DataFrame(rows)\n",
    "    df.columns = [\"Event_Name\", \"Venue\", \"Event_Date\", \"Number_of_Attendees\"]\n",
    "    return df\n"
   ]
  },
  {
   "cell_type": "code",
   "execution_count": 9,
   "metadata": {},
   "outputs": [
    {
     "data": {
      "text/html": [
       "<div>\n",
       "<style scoped>\n",
       "    .dataframe tbody tr th:only-of-type {\n",
       "        vertical-align: middle;\n",
       "    }\n",
       "\n",
       "    .dataframe tbody tr th {\n",
       "        vertical-align: top;\n",
       "    }\n",
       "\n",
       "    .dataframe thead th {\n",
       "        text-align: right;\n",
       "    }\n",
       "</style>\n",
       "<table border=\"1\" class=\"dataframe\">\n",
       "  <thead>\n",
       "    <tr style=\"text-align: right;\">\n",
       "      <th></th>\n",
       "      <th>Event_Name</th>\n",
       "      <th>Venue</th>\n",
       "      <th>Event_Date</th>\n",
       "      <th>Number_of_Attendees</th>\n",
       "    </tr>\n",
       "  </thead>\n",
       "  <tbody>\n",
       "    <tr>\n",
       "      <td>0</td>\n",
       "      <td>Virtual Thursday: Planetarium with Changsie</td>\n",
       "      <td>Nowadays</td>\n",
       "      <td>Thu, 09 Jul 2020 /</td>\n",
       "      <td>2</td>\n",
       "    </tr>\n",
       "    <tr>\n",
       "      <td>1</td>\n",
       "      <td>Virtual Thursday: Now Then: Ciel Chats with Ea...</td>\n",
       "      <td>Nowadays</td>\n",
       "      <td>Thu, 09 Jul 2020 /</td>\n",
       "      <td>2</td>\n",
       "    </tr>\n",
       "    <tr>\n",
       "      <td>2</td>\n",
       "      <td>Techno Cabin 5.0</td>\n",
       "      <td>TBA - New York</td>\n",
       "      <td>Fri, 10 Jul 2020 /</td>\n",
       "      <td>9</td>\n",
       "    </tr>\n",
       "    <tr>\n",
       "      <td>3</td>\n",
       "      <td>Manhattan Hip Hop vs. Reggae® Midnight Yacht P...</td>\n",
       "      <td>Skyport Marina</td>\n",
       "      <td>Fri, 10 Jul 2020 /</td>\n",
       "      <td>1</td>\n",
       "    </tr>\n",
       "    <tr>\n",
       "      <td>4</td>\n",
       "      <td>NYC LED Glowsticks Booze Cruise Yacht Party 2020</td>\n",
       "      <td>Skyport Marina</td>\n",
       "      <td>Fri, 10 Jul 2020 /</td>\n",
       "      <td>1</td>\n",
       "    </tr>\n",
       "    <tr>\n",
       "      <td>5</td>\n",
       "      <td>Virtual Friday: Beautiful Swimmers, DJ Freez a...</td>\n",
       "      <td>Nowadays</td>\n",
       "      <td>Fri, 10 Jul 2020 /</td>\n",
       "      <td>1</td>\n",
       "    </tr>\n",
       "    <tr>\n",
       "      <td>6</td>\n",
       "      <td>Techno Cabin 5.0</td>\n",
       "      <td>TBA - New York</td>\n",
       "      <td>Sat, 11 Jul 2020 /</td>\n",
       "      <td>9</td>\n",
       "    </tr>\n",
       "    <tr>\n",
       "      <td>7</td>\n",
       "      <td>Ride The Wave Midnight Yacht Cruise</td>\n",
       "      <td>Harbor Lights Yacht</td>\n",
       "      <td>Sat, 11 Jul 2020 /</td>\n",
       "      <td>1</td>\n",
       "    </tr>\n",
       "    <tr>\n",
       "      <td>8</td>\n",
       "      <td>Virtual Saturday: Groovy Groovy with Akanbi an...</td>\n",
       "      <td>Nowadays</td>\n",
       "      <td>Sat, 11 Jul 2020 /</td>\n",
       "      <td>1</td>\n",
       "    </tr>\n",
       "    <tr>\n",
       "      <td>9</td>\n",
       "      <td>Virtual Mister Sunday: Eamon Harkin and Justin...</td>\n",
       "      <td>Nowadays</td>\n",
       "      <td>Sun, 12 Jul 2020 /</td>\n",
       "      <td>1</td>\n",
       "    </tr>\n",
       "  </tbody>\n",
       "</table>\n",
       "</div>"
      ],
      "text/plain": [
       "                                          Event_Name                Venue  \\\n",
       "0        Virtual Thursday: Planetarium with Changsie             Nowadays   \n",
       "1  Virtual Thursday: Now Then: Ciel Chats with Ea...             Nowadays   \n",
       "2                                   Techno Cabin 5.0       TBA - New York   \n",
       "3  Manhattan Hip Hop vs. Reggae® Midnight Yacht P...       Skyport Marina   \n",
       "4   NYC LED Glowsticks Booze Cruise Yacht Party 2020       Skyport Marina   \n",
       "5  Virtual Friday: Beautiful Swimmers, DJ Freez a...             Nowadays   \n",
       "6                                   Techno Cabin 5.0       TBA - New York   \n",
       "7                Ride The Wave Midnight Yacht Cruise  Harbor Lights Yacht   \n",
       "8  Virtual Saturday: Groovy Groovy with Akanbi an...             Nowadays   \n",
       "9  Virtual Mister Sunday: Eamon Harkin and Justin...             Nowadays   \n",
       "\n",
       "           Event_Date  Number_of_Attendees  \n",
       "0  Thu, 09 Jul 2020 /                    2  \n",
       "1  Thu, 09 Jul 2020 /                    2  \n",
       "2  Fri, 10 Jul 2020 /                    9  \n",
       "3  Fri, 10 Jul 2020 /                    1  \n",
       "4  Fri, 10 Jul 2020 /                    1  \n",
       "5  Fri, 10 Jul 2020 /                    1  \n",
       "6  Sat, 11 Jul 2020 /                    9  \n",
       "7  Sat, 11 Jul 2020 /                    1  \n",
       "8  Sat, 11 Jul 2020 /                    1  \n",
       "9  Sun, 12 Jul 2020 /                    1  "
      ]
     },
     "execution_count": 9,
     "metadata": {},
     "output_type": "execute_result"
    }
   ],
   "source": [
    "url = \"https://www.residentadvisor.net/events/us/newyork\"\n",
    "scrape_events(url)"
   ]
  },
  {
   "cell_type": "markdown",
   "metadata": {},
   "source": [
    "## Write a Function to Retrieve the URL for the Next Page"
   ]
  },
  {
   "cell_type": "code",
   "execution_count": 13,
   "metadata": {},
   "outputs": [
    {
     "data": {
      "text/plain": [
       "'https://www.residentadvisor.net/events/us/newyork/week/2020-07-21'"
      ]
     },
     "execution_count": 13,
     "metadata": {},
     "output_type": "execute_result"
    }
   ],
   "source": [
    "url = 'https://www.residentadvisor.net/events/us/newyork/week/2020-07-14'\n",
    "def next_page(url):\n",
    "    response = requests.get(url)\n",
    "    soup = BeautifulSoup(response.content, 'html.parser')\n",
    "    url_ext = soup.find('a', attrs={'ga-event-action':\"Next \"}).attrs['href']\n",
    "    next_page_url = \"https://www.residentadvisor.net\" + url_ext\n",
    "    return next_page_url\n",
    "\n",
    "next_page(url)"
   ]
  },
  {
   "cell_type": "markdown",
   "metadata": {},
   "source": [
    "## Scrape the Next 1000 Events for Your Area\n",
    "\n",
    "Display the data sorted by the number of attendees. If there is a tie for the number attending, sort by event date."
   ]
  },
  {
   "cell_type": "code",
   "execution_count": 14,
   "metadata": {},
   "outputs": [
    {
     "name": "stdout",
     "output_type": "stream",
     "text": [
      "100\n"
     ]
    }
   ],
   "source": [
    "dfs = []\n",
    "total_rows = 0\n",
    "url = \"https://www.residentadvisor.net/events/us/newyork\"\n",
    "while total_rows <= 100:\n",
    "    df = scrape_events(url)\n",
    "    dfs.append(df)\n",
    "    total_rows += len(df)\n",
    "    url = next_page(url)\n",
    "    time.sleep(.2)\n",
    "df = pd.concat(dfs)\n",
    "df = df.iloc[:100]\n",
    "print(len(df))\n",
    "\n",
    "#could not get to 1000 my guess is that due to COVID they do not have events planned out that far ahead"
   ]
  },
  {
   "cell_type": "markdown",
   "metadata": {},
   "source": [
    "## Summary \n",
    "\n",
    "Congratulations! In this lab, you successfully developed a pipeline to scrape a website for concert event information!"
   ]
  }
 ],
 "metadata": {
  "kernelspec": {
   "display_name": "Python 3",
   "language": "python",
   "name": "python3"
  },
  "language_info": {
   "codemirror_mode": {
    "name": "ipython",
    "version": 3
   },
   "file_extension": ".py",
   "mimetype": "text/x-python",
   "name": "python",
   "nbconvert_exporter": "python",
   "pygments_lexer": "ipython3",
   "version": "3.6.9"
  }
 },
 "nbformat": 4,
 "nbformat_minor": 2
}
